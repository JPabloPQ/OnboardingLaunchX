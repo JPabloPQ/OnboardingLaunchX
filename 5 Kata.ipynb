{
 "cells": [
  {
   "cell_type": "markdown",
   "metadata": {},
   "source": [
    "# Ejercicio1 - Utilizar operadores aritméticos"
   ]
  },
  {
   "cell_type": "code",
   "execution_count": 1,
   "metadata": {},
   "outputs": [],
   "source": [
    "# Crear variables para almacenar las dos distancias\n",
    "# ¡Asegúrate de quitar las comas!\n",
    "\n",
    "tierra = 149597870\n",
    "jupiter = 778547200"
   ]
  },
  {
   "cell_type": "markdown",
   "metadata": {},
   "source": [
    "Realizar la operación\n",
    "Con los valores obtenidos, es el momento de añadir el código para realizar la operación. Restarás el primer planeta del segundo para determinar la distancia en kilómetros. A continuación, puedes convertir la distancia del kilómetro en millas multiplicándola por 0.621."
   ]
  },
  {
   "cell_type": "code",
   "execution_count": 6,
   "metadata": {},
   "outputs": [
    {
     "name": "stdout",
     "output_type": "stream",
     "text": [
      "628949330 KM\n",
      "390577534 Miles\n"
     ]
    }
   ],
   "source": [
    "# Calcular la distancia entre planetas\n",
    "distancia = jupiter - tierra\n",
    "distanciaMillas = round(distancia*0.621)\n",
    "\n",
    "print(str(distancia) + \" KM\")\n",
    "print(str(distanciaMillas) + \" Miles\")\n"
   ]
  },
  {
   "cell_type": "markdown",
   "metadata": {},
   "source": [
    "## Ejercicio 2: convierte cadenas en números y usa valores absolutos"
   ]
  },
  {
   "cell_type": "code",
   "execution_count": 3,
   "metadata": {},
   "outputs": [],
   "source": [
    "var1 = input(\"¿Cual es el nombre de tu primer planeta?\")\n",
    "PlanetaI = var1\n",
    "var1 = input(\"¿Cual es el nombre de tu segundo planeta?\")\n",
    "PlanetaII = var1"
   ]
  },
  {
   "cell_type": "markdown",
   "metadata": {},
   "source": [
    "Convertir a número\n",
    "Debido a que input devuelve valores de cadena, necesitamos convertirlos en números. Para nuestro ejemplo, usaremos int"
   ]
  },
  {
   "cell_type": "code",
   "execution_count": 4,
   "metadata": {},
   "outputs": [],
   "source": [
    "\n",
    "# Convierte las cadenas de ambos planetas a números enteros\n",
    "PlanetaIDistancia = int(input(\"¿Cual es la distancia del planeta\" + PlanetaI))\n",
    "PlanetaIIDistancia = int(input(\"¿Cual es la distancia del planeta\" + PlanetaII))"
   ]
  },
  {
   "cell_type": "markdown",
   "metadata": {},
   "source": [
    "### Realizar el cálculo y convertir a valor absoluto"
   ]
  },
  {
   "cell_type": "code",
   "execution_count": 12,
   "metadata": {},
   "outputs": [
    {
     "name": "stdout",
     "output_type": "stream",
     "text": [
      "La distancia en KM es 78,300,000\n",
      "La distancia en Millas es 48,624,300\n"
     ]
    }
   ],
   "source": [
    "distanciaTotal = abs(PlanetaIDistancia - PlanetaIIDistancia)\n",
    "\n",
    "\n",
    "\n",
    "print(f'La distancia en KM es {distanciaTotal:,}')\n",
    "#--------------------------------------------^ SIRVE PARA PONERLE , (COMAS) A LOS MILES \n",
    "print(f'La distancia en Millas es {round(distanciaTotal*0.621):,}')\n"
   ]
  }
 ],
 "metadata": {
  "interpreter": {
   "hash": "00cffefb62573ce6ae44a4c2540a6f533eef9448e23673a82d9fb884d70d68de"
  },
  "kernelspec": {
   "display_name": "Python 3.10.2 64-bit",
   "language": "python",
   "name": "python3"
  },
  "language_info": {
   "codemirror_mode": {
    "name": "ipython",
    "version": 3
   },
   "file_extension": ".py",
   "mimetype": "text/x-python",
   "name": "python",
   "nbconvert_exporter": "python",
   "pygments_lexer": "ipython3",
   "version": "3.10.2"
  },
  "orig_nbformat": 4
 },
 "nbformat": 4,
 "nbformat_minor": 2
}
