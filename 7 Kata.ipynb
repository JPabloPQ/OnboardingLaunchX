{
 "cells": [
  {
   "cell_type": "markdown",
   "metadata": {},
   "source": [
    "# Ejercicio 1: Creación de un bucle \"while\"\n",
    "Ejercicio 1: Uso de ciclos while en Python"
   ]
  },
  {
   "cell_type": "code",
   "execution_count": null,
   "metadata": {},
   "outputs": [],
   "source": [
    "new_planet = input(\"Introduce the name of the planet\")\n",
    "planet = []\n"
   ]
  },
  {
   "cell_type": "markdown",
   "metadata": {},
   "source": [
    "Crea un ciclo while"
   ]
  },
  {
   "cell_type": "code",
   "execution_count": 4,
   "metadata": {},
   "outputs": [
    {
     "name": "stdout",
     "output_type": "stream",
     "text": [
      "['Tierra', 'Marte']\n"
     ]
    }
   ],
   "source": [
    "#Si se hace de esta forma guarda el done en el []\n",
    "#  new_planet =''\n",
    "# planet = []\n",
    "# while new_planet.lower() != 'done':\n",
    "#   new_planet = input(\"Introduce the name of the planet or done when your type done\")\n",
    "#   if new_planet: \n",
    "#     planet.append(new_planet)\n",
    "\n",
    "# print(planet) //////////////////\n",
    "\n",
    "new_planet =''\n",
    "planet = []\n",
    "while new_planet.lower() != 'done':\n",
    "  if new_planet: \n",
    "    planet.append(new_planet)\n",
    "  new_planet = input(\"Introduce the name of the planet or done when your type done\")\n",
    "\n",
    "print(planet)\n",
    "  "
   ]
  },
  {
   "cell_type": "markdown",
   "metadata": {},
   "source": [
    "\n",
    "Ejercicio 2: Creación de un ciclo \"for\"\n",
    "Ejercicio: - Ciclo para una lista"
   ]
  },
  {
   "cell_type": "code",
   "execution_count": 6,
   "metadata": {},
   "outputs": [
    {
     "name": "stdout",
     "output_type": "stream",
     "text": [
      "Tierra\n",
      "Marte\n"
     ]
    }
   ],
   "source": [
    "for item in planet:\n",
    "  print(item)"
   ]
  }
 ],
 "metadata": {
  "interpreter": {
   "hash": "00cffefb62573ce6ae44a4c2540a6f533eef9448e23673a82d9fb884d70d68de"
  },
  "kernelspec": {
   "display_name": "Python 3.10.2 64-bit",
   "language": "python",
   "name": "python3"
  },
  "language_info": {
   "codemirror_mode": {
    "name": "ipython",
    "version": 3
   },
   "file_extension": ".py",
   "mimetype": "text/x-python",
   "name": "python",
   "nbconvert_exporter": "python",
   "pygments_lexer": "ipython3",
   "version": "3.10.2"
  },
  "orig_nbformat": 4
 },
 "nbformat": 4,
 "nbformat_minor": 2
}
