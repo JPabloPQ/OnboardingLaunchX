{
 "cells": [
  {
   "cell_type": "code",
   "execution_count": 5,
   "metadata": {},
   "outputs": [],
   "source": [
    "def tanques(tanque1, tanque2, tanque3):\n",
    "  aver = ((tanque1 + tanque2 + tanque3)/3)\n",
    "  return f\"\"\"\n",
    "    Fuel Report:\n",
    "    Total Average: {aver}%\n",
    "    Main tank: {tanque1}%\n",
    "    External tank: {tanque2}%\n",
    "    Hydrogen tank: {tanque3}% \n",
    "    \"\"\"\n"
   ]
  },
  {
   "cell_type": "code",
   "execution_count": 7,
   "metadata": {},
   "outputs": [
    {
     "name": "stdout",
     "output_type": "stream",
     "text": [
      "\n",
      "    Fuel Report:\n",
      "    Total Average: 30.0%\n",
      "    Main tank: 30%\n",
      "    External tank: 40%\n",
      "    Hydrogen tank: 20% \n",
      "    \n"
     ]
    }
   ],
   "source": [
    "print(tanques(30, 40,20))"
   ]
  },
  {
   "cell_type": "code",
   "execution_count": 8,
   "metadata": {},
   "outputs": [
    {
     "data": {
      "text/plain": [
       "82.0"
      ]
     },
     "execution_count": 8,
     "metadata": {},
     "output_type": "execute_result"
    }
   ],
   "source": [
    "# Función promedio \n",
    "def average(values):\n",
    "    total = sum(values)\n",
    "    number_of_items = len(values)\n",
    "    return total / number_of_items\n",
    "\n",
    "# Test the averaging function with a list of integers:\n",
    "average([80, 85, 81]) "
   ]
  },
  {
   "cell_type": "code",
   "execution_count": 11,
   "metadata": {},
   "outputs": [
    {
     "name": "stdout",
     "output_type": "stream",
     "text": [
      "\n",
      "    Fuel Report:\n",
      "    Total Average: 63.333333333333336%\n",
      "    Main tank: 90%\n",
      "    External tank: 88%\n",
      "    Hydrogen tank: 12% \n",
      "    \n"
     ]
    }
   ],
   "source": [
    "def tanques(tanque1, tanque2, tanque3):\n",
    "  \n",
    "  return f\"\"\"\n",
    "    Fuel Report:\n",
    "    Total Average: {average([tanque1,tanque2,tanque3])}%\n",
    "    Main tank: {tanque1}%\n",
    "    External tank: {tanque2}%\n",
    "    Hydrogen tank: {tanque3}% \n",
    "    \"\"\"\n",
    "\n",
    "print(tanques(90,88,12))"
   ]
  },
  {
   "cell_type": "markdown",
   "metadata": {},
   "source": [
    "Ejercicio 2: Trabajo con argumentos de palabra clave\n",
    "Ejercicio : Trabajar con argumentos de palabras clave en funciones"
   ]
  },
  {
   "cell_type": "code",
   "execution_count": 12,
   "metadata": {},
   "outputs": [
    {
     "name": "stdout",
     "output_type": "stream",
     "text": [
      "\n",
      "    Mission destination: Moon\n",
      "    Total travel time: 65 minutes\n",
      "    Total fuel left: 500000 gallons\n",
      "    \n"
     ]
    }
   ],
   "source": [
    "\n",
    "def mission(preTime,time, destino, tanque_externo, tanque_interno):\n",
    "  return f\"\"\"\n",
    "    Mission destination: {destino}\n",
    "    Total travel time: {preTime + time} minutes\n",
    "    Total fuel left: {tanque_externo + tanque_interno} gallons\n",
    "    \"\"\"\n",
    "\n",
    "print(mission(14, 51, \"Moon\", 200000, 300000))\n"
   ]
  },
  {
   "cell_type": "code",
   "execution_count": 13,
   "metadata": {},
   "outputs": [
    {
     "name": "stdout",
     "output_type": "stream",
     "text": [
      "\n",
      "    Mission destination Moon\n",
      "    Total travel time: 76 minutes\n",
      "    Total fuel left: 600000\n",
      "    \n"
     ]
    }
   ],
   "source": [
    "def mission(destination, *minutes, **fuel):\n",
    "    return f\"\"\"\n",
    "    Mission destination {destination}\n",
    "    Total travel time: {sum(minutes)} minutes\n",
    "    Total fuel left: {sum(fuel.values())}\n",
    "    \"\"\"\n",
    "\n",
    "print(mission(\"Moon\", 10, 15, 51, main=200000, external=400000))"
   ]
  },
  {
   "cell_type": "code",
   "execution_count": 16,
   "metadata": {},
   "outputs": [
    {
     "name": "stdout",
     "output_type": "stream",
     "text": [
      "\n",
      "    Mission destination Moon\n",
      "    Total travel time: 76 minutes\n",
      "    Total fuel left: 600000\n",
      "    main tank --> 200000 gallons remaining\n",
      "external tank --> 400000 gallons remaining\n",
      "\n"
     ]
    }
   ],
   "source": [
    "def mission(destination, *minutes, **fuel):\n",
    "    reporte= f\"\"\"\n",
    "    Mission destination {destination}\n",
    "    Total travel time: {sum(minutes)} minutes\n",
    "    Total fuel left: {sum(fuel.values())}\n",
    "    \"\"\"\n",
    "    for nombre_tanque, cantidad in fuel.items():\n",
    "      reporte += f\"{nombre_tanque} tank --> {cantidad} gallons remaining\\n\"\n",
    "    return reporte\n",
    "\n",
    "print(mission(\"Moon\", 10, 15, 51, main=200000, external=400000))"
   ]
  }
 ],
 "metadata": {
  "interpreter": {
   "hash": "00cffefb62573ce6ae44a4c2540a6f533eef9448e23673a82d9fb884d70d68de"
  },
  "kernelspec": {
   "display_name": "Python 3.10.2 64-bit",
   "language": "python",
   "name": "python3"
  },
  "language_info": {
   "codemirror_mode": {
    "name": "ipython",
    "version": 3
   },
   "file_extension": ".py",
   "mimetype": "text/x-python",
   "name": "python",
   "nbconvert_exporter": "python",
   "pygments_lexer": "ipython3",
   "version": "3.10.2"
  },
  "orig_nbformat": 4
 },
 "nbformat": 4,
 "nbformat_minor": 2
}
